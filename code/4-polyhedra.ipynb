{
 "cells": [
  {
   "cell_type": "markdown",
   "metadata": {},
   "source": [
    "Let's build a JuMP model for a (slight variant of) our extended formulation for the octahedron:\n",
    "\n",
    "$$\n",
    "\\begin{alignat*}{2}\n",
    "    x_i &\\leq y_i &\\quad \\forall i \\in [n] \\\\\n",
    "    -x_i &\\leq y_i &\\quad \\forall i \\in [n] \\\\\n",
    "    \\sum_{i=1}^n y_i &\\leq 1 & \\\\\n",
    "    \\sum_{i=1}^n x_i &\\leq z & \\\\\n",
    "    x &\\in \\mathbb{R}_+ \\\\\n",
    "    y &\\in \\mathbb{R}^n_+ \\\\\n",
    "    z &\\in \\mathbb{R}_+\n",
    "\\end{alignat*}\n",
    "$$"
   ]
  },
  {
   "cell_type": "code",
   "execution_count": null,
   "metadata": {
    "collapsed": false
   },
   "outputs": [],
   "source": [
    "using JuMP, Polyhedra, CDDLib"
   ]
  },
  {
   "cell_type": "code",
   "execution_count": null,
   "metadata": {
    "collapsed": false
   },
   "outputs": [],
   "source": [
    "m = Model()\n",
    "n = 3\n",
    "@variable(m, x[1:n])\n",
    "@variable(m, y[1:n] >= 0)\n",
    "@variable(m, z >= 0)\n",
    "@constraint(m,[i=1:n],  x[i] <= y[i])\n",
    "@constraint(m,[i=1:n], -x[i] <= y[i])\n",
    "@constraint(m, sum(y) <= 1)\n",
    "@constraint(m, z ≥ sum(x))\n",
    "m"
   ]
  },
  {
   "cell_type": "markdown",
   "metadata": {},
   "source": [
    "We can use the Polyhedra Julia package to build a polyhedral representation of this feasible region, and then the CDD library to perform interesting polyhedral computations."
   ]
  },
  {
   "cell_type": "code",
   "execution_count": null,
   "metadata": {
    "collapsed": false
   },
   "outputs": [],
   "source": [
    "poly = polyhedron(m, CDDLibrary(:exact))\n",
    "collect(ineqs(poly))"
   ]
  },
  {
   "cell_type": "code",
   "execution_count": null,
   "metadata": {
    "collapsed": false
   },
   "outputs": [],
   "source": [
    "removehredundancy!(poly)\n",
    "collect(ineqs(poly))"
   ]
  },
  {
   "cell_type": "code",
   "execution_count": null,
   "metadata": {
    "collapsed": false
   },
   "outputs": [],
   "source": [
    "collect(eqs(poly))"
   ]
  },
  {
   "cell_type": "code",
   "execution_count": null,
   "metadata": {
    "collapsed": false
   },
   "outputs": [],
   "source": [
    "collect(points(poly))"
   ]
  },
  {
   "cell_type": "code",
   "execution_count": null,
   "metadata": {
    "collapsed": false
   },
   "outputs": [],
   "source": [
    "collect(rays(poly))"
   ]
  },
  {
   "cell_type": "code",
   "execution_count": null,
   "metadata": {
    "collapsed": false
   },
   "outputs": [],
   "source": [
    "poly_x = eliminate(poly, n+1:2n+1)\n",
    "collect(ineqs(poly_x))"
   ]
  },
  {
   "cell_type": "code",
   "execution_count": null,
   "metadata": {
    "collapsed": false
   },
   "outputs": [],
   "source": [
    "removehredundancy!(poly_x)\n",
    "collect(ineqs(poly_x))"
   ]
  },
  {
   "cell_type": "code",
   "execution_count": null,
   "metadata": {
    "collapsed": false
   },
   "outputs": [],
   "source": [
    "collect(points(poly_x))"
   ]
  },
  {
   "cell_type": "code",
   "execution_count": null,
   "metadata": {
    "collapsed": false
   },
   "outputs": [],
   "source": [
    "collect(rays(poly_x))"
   ]
  },
  {
   "cell_type": "code",
   "execution_count": null,
   "metadata": {
    "collapsed": false
   },
   "outputs": [],
   "source": [
    "V = [\n",
    "# λ1 λ2 λ3 λ4 λ5 z1 z2\n",
    "   1  0  0  0  0  0  0\n",
    "   0  1  0  0  0  0  0\n",
    "   0  1  0  0  0  1  0\n",
    "   0  0  1  0  0  1  0\n",
    "   0  0  1  0  0  1  1\n",
    "   0  0  0  1  0  1  1\n",
    "   0  0  0  1  0  0  1\n",
    "   0  0  0  0  1  0  1\n",
    "]\n",
    "Vpoly = polyhedron(SimpleVRepresentation(V), CDDLibrary(:exact))\n",
    "collect(ineqs(Vpoly))"
   ]
  },
  {
   "cell_type": "code",
   "execution_count": null,
   "metadata": {
    "collapsed": false
   },
   "outputs": [],
   "source": [
    "collect(eqs(Vpoly))"
   ]
  },
  {
   "cell_type": "code",
   "execution_count": null,
   "metadata": {
    "collapsed": false
   },
   "outputs": [],
   "source": [
    "V = [\n",
    "# λ1 λ2 λ3 λ4 λ5 z1 z2\n",
    "   1  0  0  0  0  0  0\n",
    "   0  1  0  0  0  0  0\n",
    "   0  1  0  0  0  1  1\n",
    "   0  0  1  0  0  1  1\n",
    "   0  0  1  0  0  1  0\n",
    "   0  0  0  1  0  1  0\n",
    "   0  0  0  1  0  0  1\n",
    "   0  0  0  0  1  0  1\n",
    "]\n",
    "Vpoly = polyhedron(SimpleVRepresentation(V), CDDLibrary(:exact))\n",
    "collect(ineqs(Vpoly))"
   ]
  }
 ],
 "metadata": {
  "kernelspec": {
   "display_name": "Julia 0.6.2",
   "language": "julia",
   "name": "julia-0.6"
  },
  "language_info": {
   "file_extension": ".jl",
   "mimetype": "application/julia",
   "name": "julia",
   "version": "0.6.2"
  }
 },
 "nbformat": 4,
 "nbformat_minor": 2
}
