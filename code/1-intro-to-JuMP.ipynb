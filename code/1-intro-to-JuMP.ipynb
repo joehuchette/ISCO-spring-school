{
 "cells": [
  {
   "cell_type": "markdown",
   "metadata": {},
   "source": [
    "# What is JuMP?\n",
    "\n",
    "JuMP is an _modeling language_ for optimization problems, written in Julia. \n",
    "\n",
    "When solving an optimization problem, typically you start with something like this:\n",
    "\n",
    "$$\n",
    "\\begin{align*}\n",
    "\\max_{x_1,x_2,x_3} \\quad& x_1 + 2x_2 + 3x_3 \\\\\n",
    "\\text{s.t.}\\quad& -x_1 + x_2 + x_3 \\leq 20 \\\\\n",
    "& x_1 -3x_2 + x_3 \\leq 30 \\\\\n",
    "& 0 \\leq x_1 \\leq 40 \\\\\n",
    "& x_2, x_3 \\geq 0.\n",
    "\\end{align*}\n",
    "$$\n",
    "\n",
    "\n",
    "To produce an optimal solution, you might use a _solver_: a software implementation of an optimization algorithm. They typically want the problem specified in a much more opaque way:\n",
    "\n",
    "```java\n",
    "import ilog.concert.*;\n",
    "import ilog.cplex.*;\n",
    "public class Example {\n",
    " public static void main(String[] args) {\n",
    "   try {\n",
    "    IloCplex cplex = new IloCplex();\n",
    "double[] lb = {0.0, 0.0, 0.0};\n",
    "double[] ub = {40.0, Double.MAX_VALUE, Double.MAX_VALUE}; IloNumVar[] x = cplex.numVarArray(3, lb, ub);\n",
    "    double[] objvals = {1.0, 2.0, 3.0};\n",
    "\n",
    "cplex.addMaximize(cplex.scalProd(x, objvals));\n",
    "    cplex.addLe(cplex.sum(cplex.prod(-1.0, x[0]),\n",
    "                   cplex.prod( 1.0, x[1]),\n",
    "                   cplex.prod( 1.0, x[2])), 20.0);\n",
    "    cplex.addLe(cplex.sum(cplex.prod( 1.0, x[0]),\n",
    "                   cplex.prod(-3.0, x[1]),\n",
    "                   cplex.prod( 1.0, x[2])), 30.0);\n",
    "if ( cplex.solve() ) {\n",
    "cplex.out().println(\"Solution status = \" + cplex.getStatus()); cplex.out().println(\"Solution value = \" + cplex.getObjValue());\n",
    "     double[] val = cplex.getValues(x);\n",
    "     int ncols = cplex.getNcols();\n",
    "     for (int j = 0; j < ncols; ++j)\n",
    "       cplex.out().println(\"Column: \" + j + \" Value = \" + val[j]);\n",
    "    }\n",
    "    cplex.end();\n",
    "   }\n",
    "   catch (IloException e) {\n",
    "    System.err.println(\"Concert exception '\" + e + \"' caught\");\n",
    "} }\n",
    "}\n",
    "```\n",
    "\n",
    "For larger, more complex problems, programming like this is:\n",
    "* Difficult\n",
    "* Time-consuming\n",
    "* Hard to maintain/extend\n",
    "* Error-prone\n",
    "\n",
    "A modeling language (like JuMP) lets you code an optimization problem in a more natural way. It does the translation to the low-level solver format for you.\n",
    "\n",
    "There are a number of modeling languages out there. Why JuMP?\n",
    "\n",
    "* User-friendly\n",
    "* Matches performance of competitors\n",
    "* Solver-independent\n",
    "* Easy to extend and take advantage of advanced features\n",
    "\n",
    "For more information and a quick start guide to JuMP, take a look at [JuMP docs](https://jump.readthedocs.io/en/latest/index.html).\n",
    "\n",
    "In this notebook, we will focus on using JuMP for linear optimization. In ones to follow, we'll see how you can use if for integer optimization, we'll play around with different formulations for piecewise linear functions, and we'll see how to perform polyhedral computations in Julia."
   ]
  },
  {
   "cell_type": "markdown",
   "metadata": {},
   "source": [
    "# A first example\n",
    "Let's see how we translate a simple, 2 variable LP to JuMP code.\n",
    "\n",
    "$$\n",
    "\\begin{align*}\n",
    "\\max_{x,y} \\quad& x + 2y \\\\\n",
    "\\text{s.t.}\\quad& x + y \\leq 1 \\\\\n",
    "& x, y \\geq 0.\n",
    "\\end{align*}\n",
    "$$\n",
    "\n",
    "First, we load the JuMP and Clp libraries."
   ]
  },
  {
   "cell_type": "code",
   "execution_count": null,
   "metadata": {},
   "outputs": [],
   "source": [
    "using JuMP, Clp"
   ]
  },
  {
   "cell_type": "markdown",
   "metadata": {},
   "source": [
    "Next, we construct a model object. This is a container for everything in our optimization problem: variables, constraints, solver options, etc."
   ]
  },
  {
   "cell_type": "code",
   "execution_count": null,
   "metadata": {},
   "outputs": [],
   "source": [
    "model = Model(solver=ClpSolver())"
   ]
  },
  {
   "cell_type": "markdown",
   "metadata": {},
   "source": [
    "Next, we define the two decision variables in our optimization problem. We will use the ``@variable`` macro (a fancy function, essentially). The first argument is the model object to attach the variable to, and the second specifies the variable name and any bounds."
   ]
  },
  {
   "cell_type": "code",
   "execution_count": null,
   "metadata": {},
   "outputs": [],
   "source": [
    "@variable(model, x >= 0)\n",
    "@variable(model, y >= 0)"
   ]
  },
  {
   "cell_type": "code",
   "execution_count": null,
   "metadata": {},
   "outputs": [],
   "source": [
    "model"
   ]
  },
  {
   "cell_type": "markdown",
   "metadata": {},
   "source": [
    "We now add the single constraint of our problem using the ``@constraint`` macro. We write it algebraically, exactly as we see it above."
   ]
  },
  {
   "cell_type": "code",
   "execution_count": null,
   "metadata": {},
   "outputs": [],
   "source": [
    "@constraint(model, x + y <= 1)\n",
    "model"
   ]
  },
  {
   "cell_type": "markdown",
   "metadata": {},
   "source": [
    "We specify the objective function with the ``@objective`` macro."
   ]
  },
  {
   "cell_type": "code",
   "execution_count": null,
   "metadata": {},
   "outputs": [],
   "source": [
    "@objective(model, Max, x + 2y)"
   ]
  },
  {
   "cell_type": "code",
   "execution_count": null,
   "metadata": {
    "scrolled": true
   },
   "outputs": [],
   "source": [
    "model"
   ]
  },
  {
   "cell_type": "markdown",
   "metadata": {},
   "source": [
    "To solve the optimization problem, call the ``solve`` function."
   ]
  },
  {
   "cell_type": "code",
   "execution_count": null,
   "metadata": {},
   "outputs": [],
   "source": [
    "solve(model)"
   ]
  },
  {
   "cell_type": "markdown",
   "metadata": {},
   "source": [
    "We can now inspect the solution values and optimal cost."
   ]
  },
  {
   "cell_type": "code",
   "execution_count": null,
   "metadata": {},
   "outputs": [],
   "source": [
    "@show getvalue(x)\n",
    "@show getvalue(y)\n",
    "@show getobjectivevalue(model)"
   ]
  },
  {
   "cell_type": "markdown",
   "metadata": {},
   "source": [
    "# Exercise\n",
    "\n",
    "Code and solve the following optimization problem:\n",
    "\n",
    "$$\n",
    "\\begin{align*}\n",
    "\\min_{x,y} \\quad& 3x - y \\\\\n",
    "\\text{s.t.}\\quad& x + 2y \\geq 1 \\\\\n",
    "& x \\geq 0 \\\\\n",
    "& 0 \\leq y \\leq 1.\n",
    "\\end{align*}\n",
    "$$"
   ]
  },
  {
   "cell_type": "code",
   "execution_count": null,
   "metadata": {},
   "outputs": [],
   "source": [
    "model = Model(solver=ClpSolver())\n",
    "@variable(model, x >= 0)\n",
    "@variable(model, 0 <= y <= 1)\n",
    "@constraint(model, x + 2y >= 1)\n",
    "@objective(model, Min, 3x - y)\n",
    "\n",
    "stat = solve(model)"
   ]
  },
  {
   "cell_type": "markdown",
   "metadata": {},
   "source": [
    "# Airline Network Revenue Management\n",
    "\n",
    "<img style=\"max-width:100%; width:500px; height:auto\" src=\"http://i.imgur.com/jeGwWET.png\">\n",
    "\n",
    "In the airline network revenue management problem we are trying to decide how many tickets for each origin-destination (O-D) pair to sell at each price level. The goal is to maximize revenue, and we cannot sell more tickets than there is demand for, or space on the planes for.\n",
    "\n",
    "## Three Flight Problem\n",
    "\n",
    "We'll start with a toy problem that has three origin-destination pairs, with two price classes for each pair. The three origin-destination pairs are BOS-MDW, MDW-SFO, or BOS-SFO via MDW. BOS stands for Boston, MDW is Chicago-Midway, and SFO is San Francisco. Each O-D pair has a \"regular\" and \"discount\" fare class. The data we will use is summarized as follows:\n",
    "\n",
    "```\n",
    "PLANE CAPACITY: 166\n",
    "\n",
    "BOS-MDW\n",
    "        Regular  Discount\n",
    "Price:  428      190\n",
    "Demand: 80       120\n",
    "\n",
    "BOS-SFO\n",
    "        Regular  Discount\n",
    "Price:  642      224\n",
    "Demand: 75       100\n",
    "\n",
    "MDW-SFO\n",
    "        Regular  Discount\n",
    "Price:  512      190\n",
    "Demand: 60       110\n",
    "```"
   ]
  },
  {
   "cell_type": "code",
   "execution_count": null,
   "metadata": {},
   "outputs": [],
   "source": [
    "nrm = Model(solver=ClpSolver())"
   ]
  },
  {
   "cell_type": "code",
   "execution_count": null,
   "metadata": {},
   "outputs": [],
   "source": [
    "@variables(nrm, begin \n",
    "    0 <= BOStoMDW_R <= 80\n",
    "    0 <= BOStoMDW_D <= 120\n",
    "    0 <= BOStoSFO_R <= 75\n",
    "    0 <= BOStoSFO_D <= 100\n",
    "    0 <= MDWtoSFO_R <= 60\n",
    "    0 <= MDWtoSFO_D <= 110\n",
    "end)\n",
    "nrm"
   ]
  },
  {
   "cell_type": "code",
   "execution_count": null,
   "metadata": {},
   "outputs": [],
   "source": [
    "@objective(nrm, Max, 428BOStoMDW_R + 190BOStoMDW_D +\n",
    "                     642BOStoSFO_R + 224BOStoSFO_D +\n",
    "                     512MDWtoSFO_R + 190MDWtoSFO_D)\n",
    "nrm"
   ]
  },
  {
   "cell_type": "code",
   "execution_count": null,
   "metadata": {},
   "outputs": [],
   "source": [
    "@constraint(nrm, BOStoMDW_R + BOStoMDW_D + \n",
    "                 BOStoSFO_R + BOStoSFO_D <= 166)\n",
    "@constraint(nrm, MDWtoSFO_R + MDWtoSFO_D + \n",
    "                 BOStoSFO_R + BOStoSFO_D <= 166)\n",
    "nrm"
   ]
  },
  {
   "cell_type": "code",
   "execution_count": null,
   "metadata": {},
   "outputs": [],
   "source": [
    "status = solve(nrm)\n",
    "status  # Should be `:Optimal`"
   ]
  },
  {
   "cell_type": "code",
   "execution_count": null,
   "metadata": {},
   "outputs": [],
   "source": [
    "@show getvalue(BOStoMDW_R)\n",
    "@show getvalue(BOStoMDW_D)\n",
    "@show getobjectivevalue(nrm)"
   ]
  },
  {
   "cell_type": "markdown",
   "metadata": {},
   "source": [
    "At this point, an exercise might be to extend this model by, say, adding another airport in this same fashion. I won't assign that, though, because it's a little tedious. It also doesn't scale well to problems with many airports. Instead, we can use JuMP's collections and summation notation to make compact, clear, and maintainable models for larger, more complex problems."
   ]
  },
  {
   "cell_type": "markdown",
   "metadata": {},
   "source": [
    "## Collections of variables and summation in JuMP"
   ]
  },
  {
   "cell_type": "markdown",
   "metadata": {},
   "source": [
    "First, we would like to construct a _collection of variables_ all at once.  This is a very common idiom; for example, you might have a variable named ``x`` that is indexed from 1 to 10:"
   ]
  },
  {
   "cell_type": "code",
   "execution_count": null,
   "metadata": {},
   "outputs": [],
   "source": [
    "m = Model()\n",
    "@variable(m, x[1:10] >= 0)"
   ]
  },
  {
   "cell_type": "markdown",
   "metadata": {},
   "source": [
    "The index sets are specified inside the ``[...]`` block. You can create multidimensional containers by specifying multiple index sets, separated by commas:"
   ]
  },
  {
   "cell_type": "code",
   "execution_count": null,
   "metadata": {},
   "outputs": [],
   "source": [
    "@variable(m, y[1:10,[\"red\",\"blue\"]] <= 1)"
   ]
  },
  {
   "cell_type": "markdown",
   "metadata": {},
   "source": [
    "For more complicated expressions, you can name the indices for the index sets and use them in the rest of the variable definition:"
   ]
  },
  {
   "cell_type": "markdown",
   "metadata": {},
   "source": [
    "$$\n",
    "i \\leq z_{ij} \\leq ub_j \\;\\;\\; \\forall i \\in \\{1,...,10\\}, j \\in \\{i+1, ..., 10\\}\n",
    "$$"
   ]
  },
  {
   "cell_type": "code",
   "execution_count": null,
   "metadata": {},
   "outputs": [],
   "source": [
    "ub = rand(10)\n",
    "@variable(m, i <= z[i=1:10,j=(i+1):10] <= ub[j])"
   ]
  },
  {
   "cell_type": "markdown",
   "metadata": {},
   "source": [
    "To specify conditions on the indexing, you can add conditionals inside the ``[...]`` block, separated by a semicolon:"
   ]
  },
  {
   "cell_type": "code",
   "execution_count": null,
   "metadata": {},
   "outputs": [],
   "source": [
    "@variable(m, w[i=1:10, c=[\"red\",\"blue\"]; iseven(i) || c == \"red\"] >= 0)"
   ]
  },
  {
   "cell_type": "markdown",
   "metadata": {},
   "source": [
    "Now that we can programatically create arrays of variables, we would like to be able to use them to full-effect in the constraints of our problem. That is, we want a way to express multi-dimensional summations, with conditionals. To do this, we use the ``sum(...)`` construction. The first argument is the ''inner loop'' of the summation, the index sets are specified after a ``for``, and any conditionals are stated following an ``if`` (similar to variable definition, but with a slightly different syntax)."
   ]
  },
  {
   "cell_type": "markdown",
   "metadata": {},
   "source": [
    "$$ \\sum _{i = 1}^{10} x_i \\leq 1$$"
   ]
  },
  {
   "cell_type": "code",
   "execution_count": null,
   "metadata": {},
   "outputs": [],
   "source": [
    "@constraint(m, sum(x[i] for i in 1:10) <= 1)"
   ]
  },
  {
   "cell_type": "markdown",
   "metadata": {},
   "source": [
    "$$ \n",
    "\\begin{equation}\n",
    "\\sum_{\\substack{i\\in\\{1,...,10\\}\\\\\n",
    "                c\\in\\{\"red\",\"blue\"\\}}}\n",
    "       coef(c) \\cdot y_{ic} = 1\n",
    "\\end{equation}\n",
    "$$"
   ]
  },
  {
   "cell_type": "code",
   "execution_count": null,
   "metadata": {},
   "outputs": [],
   "source": [
    "coef = Dict(\"red\" => 2, \"blue\" => 3)\n",
    "@constraint(m, sum(coef[c]*y[i,c] for i in 1:10, c in [\"red\",\"blue\"]) == 1)"
   ]
  },
  {
   "cell_type": "markdown",
   "metadata": {},
   "source": [
    "$$ \n",
    "\\begin{equation}\n",
    "\\sum_{i = 1}^{10} \\sum_{j = i+1}^{10} \n",
    "       i \\cdot j \\cdot z_{ij} \\leq\n",
    "\\sum_{\\substack{i\\in\\{1,...,10\\},\n",
    "                c\\in\\{\"red\",\"blue\"\\} \\\\\n",
    "                \\text{s.t. } iseven(i) \\text{ or } c = \"red\"}}\n",
    "       i^2 \\cdot w_{ic} \n",
    "\\end{equation}\n",
    "$$"
   ]
  },
  {
   "cell_type": "code",
   "execution_count": null,
   "metadata": {},
   "outputs": [],
   "source": [
    "@constraint(m, sum(i*j*z[i,j] for i in 1:10, j in (i+1):10) <=\n",
    "               sum(i^2*w[i,c] for i in 1:10, c in [\"red\",\"blue\"] if iseven(i) || c == \"red\"))"
   ]
  },
  {
   "cell_type": "markdown",
   "metadata": {},
   "source": [
    "## Extension to more airports"
   ]
  },
  {
   "cell_type": "markdown",
   "metadata": {},
   "source": [
    "Now let's return to the network revenue management example and attempt to rewrite it in a generic way that scales to any number of airports. \n",
    "\n",
    "First, let's create some random data for our problem."
   ]
  },
  {
   "cell_type": "code",
   "execution_count": null,
   "metadata": {},
   "outputs": [],
   "source": [
    "# Set the random seed to ensure we always\n",
    "# get the same stream of 'random' numbers\n",
    "srand(1234)  \n",
    "\n",
    "# Let's create a vector of symbols, one for each airport\n",
    "airports = [:BOS, :MDW, :SFO, :YYZ]\n",
    "num_airport = length(airports)\n",
    "\n",
    "# We'll also create a vector of fare classes\n",
    "classes = [:REG, :DIS]\n",
    "\n",
    "# All the demand and price data for each triple of\n",
    "# (origin, destination, class) will be stored in\n",
    "# 'dictionaries', also known as 'maps'.\n",
    "demand = Dict()\n",
    "prices = Dict()\n",
    "\n",
    "# Generate a demand and price for each pair of airports\n",
    "# To keep the code simple we will generate info for\n",
    "# nonsense flights like BOS-BOS and SFO-SFO, but they\n",
    "# won't appear in our final model.\n",
    "for origin in airports, dest in airports\n",
    "    # Generate demand:\n",
    "    #  - Regular demand is Uniform(50,90)\n",
    "    #  - Discount demand is Uniform(100,130)\n",
    "    demand[(origin,dest,:REG)] = rand(50:90)    \n",
    "    demand[(origin,dest,:DIS)] = rand(100:130)\n",
    "    # Generate prices:\n",
    "    #  - Regular price is Uniform(400,700)\n",
    "    #  - Discount price is Uniform(150,300)\n",
    "    prices[(origin,dest,:REG)] = rand(400:700)\n",
    "    prices[(origin,dest,:DIS)] = rand(150:300)\n",
    "end\n",
    "\n",
    "# Finally set all places to have the same capacity\n",
    "plane_cap = rand(150:200)\n",
    "\n",
    "# Lets look at a sample demand at random\n",
    "@show demand[(:BOS,:YYZ,:REG)]"
   ]
  },
  {
   "cell_type": "markdown",
   "metadata": {},
   "source": [
    "Now let's build the model. We will have our decision variable ``x`` indexed by three things:\n",
    "\n",
    "1. Origin\n",
    "2. Destination\n",
    "3. Class\n",
    "\n",
    "The upper bound (the demand for each) will vary accordingly."
   ]
  },
  {
   "cell_type": "code",
   "execution_count": null,
   "metadata": {},
   "outputs": [],
   "source": [
    "nrm2 = Model(solver=ClpSolver())\n",
    "\n",
    "@variable(nrm2, 0 <= x[o=airports,\n",
    "                       d=airports,\n",
    "                       c=classes; o!=d] <= demand[(o,d,c)])\n",
    "nrm2"
   ]
  },
  {
   "cell_type": "markdown",
   "metadata": {},
   "source": [
    "The objective is to maximize the profit we make, summing over each ticket set:"
   ]
  },
  {
   "cell_type": "code",
   "execution_count": null,
   "metadata": {},
   "outputs": [],
   "source": [
    "@objective(nrm2, Max, sum(prices[(o,d,c)]*x[o,d,c] for \n",
    "    o in airports, d in airports, c in classes if o != d))\n",
    "nrm2"
   ]
  },
  {
   "cell_type": "markdown",
   "metadata": {},
   "source": [
    "Our first set of constraints enforces that all the legs leaving the hub airport must not oversell the plane capacity:"
   ]
  },
  {
   "cell_type": "code",
   "execution_count": null,
   "metadata": {},
   "outputs": [],
   "source": [
    "for d in airports\n",
    "    if d != :MDW\n",
    "        println(\"Adding constraint for hub (MDW) to $d\")\n",
    "        @constraint(nrm2, \n",
    "            sum(x[o,d,c] for o in airports, c in classes if o!=d) <= plane_cap)\n",
    "    end\n",
    "end\n",
    "nrm2"
   ]
  },
  {
   "cell_type": "markdown",
   "metadata": {},
   "source": [
    "Now, as an exercise, complete this model by adding constraints that each flight _to_ the hub is not oversold."
   ]
  },
  {
   "cell_type": "code",
   "execution_count": null,
   "metadata": {
    "scrolled": true
   },
   "outputs": [],
   "source": [
    "# Constraints here!\n",
    "\n",
    "for o in airports\n",
    "    if o != :MDW\n",
    "        println(\"Adding constraint for $o to hub (MDW)\")\n",
    "        @constraint(nrm2, \n",
    "            sum(x[o,d,c] for d in airports, c in classes if o!=d) <= plane_cap)\n",
    "    end\n",
    "end\n",
    "                \n",
    "# @constraint(nrm2, constr[o=airports;o!=:MDW], \n",
    "#             sum(x[o,d,c] for d in airports, c in classes if o!=d) <= plane_cap)\n",
    "nrm2\n",
    "             \n",
    "# Now solve the model\n",
    "solve(nrm2)\n",
    "@show getvalue(x)\n",
    "@show getobjectivevalue(nrm2)"
   ]
  },
  {
   "cell_type": "markdown",
   "metadata": {},
   "source": [
    "# Exercise: Chebyshev Center\n",
    "\n",
    "Take some polyhedron $P = \\{x \\in \\mathbb{R}^n : Ax \\leq b\\}$. Now take the largest ball\n",
    "$$\n",
    "B = \\{x + u : ||u||_2 \\leq r\\}\n",
    "$$\n",
    "given by center $x$ and radius $r$ such that $B \\subset P$. The center $x$ is the Chebyshev center of the polyhedron.\n",
    "\n",
    "We can find the Chebyshev center using linear optimization. We enforce that the ball $B$ lies inside the polyhedron $P$ by requiring that, for each constraint $i$ ($=1\\ldots,m$),\n",
    "$$\n",
    "A_i(x+u) \\leq b_i \\quad \\forall u : ||u||_2 \\leq r.\n",
    "$$\n",
    "Since $\\sup_{u : ||u||_2 \\leq r} A_i u = r||A_i||_2$, the constraint is equivalent to\n",
    "$$\n",
    "A_ix + r ||A_i||_2 \\leq b_i.\n",
    "$$\n",
    "Therefore, the problem of finding the Chebyshev center is equivalent to\n",
    "$$\n",
    "\\begin{align*}\n",
    "\\max_{x,r} \\quad& r \\\\\n",
    "\\text{s.t.} \\quad& A_i x + ||A_i||_2r \\leq b_i \\quad \\forall i = 1,\\ldots,m.\n",
    "\\end{align*}\n",
    "$$\n",
    "Your exercise is to code up this optimization problem and solve it, using the problem data I give you."
   ]
  },
  {
   "cell_type": "code",
   "execution_count": null,
   "metadata": {},
   "outputs": [],
   "source": [
    "n = 2\n",
    "m = 4\n",
    "# Store LHS as vector-of-vectors\n",
    "A = Vector{Float64}[\n",
    "    [ 2, 1], [ 2,-1],\n",
    "    [-1, 2], [-1,-2]]\n",
    "b = ones(m)\n",
    "\n",
    "# Build JuMP model\n",
    "model = Model(solver=ClpSolver())\n",
    "\n",
    "# Your model goes here!\n",
    "# HINT: The dot(x,y) and norm(x) functions will be useful for writing the constraints \n",
    "@variable(model, r)\n",
    "@variable(model, x[1:2])\n",
    "for i in 1:m\n",
    "    @constraint(model, dot(A[i],x) + norm(A[i])*r <= b[i])\n",
    "end\n",
    "@objective(model, Max, r)\n",
    "\n",
    "# Now solve the model\n",
    "solve(model)\n",
    "@show getvalue(x)\n",
    "@show getvalue(r);"
   ]
  },
  {
   "cell_type": "markdown",
   "metadata": {},
   "source": [
    "If you solved the problem above correctly, you can visualize the solution using the code below."
   ]
  },
  {
   "cell_type": "code",
   "execution_count": null,
   "metadata": {},
   "outputs": [],
   "source": [
    "using Plots\n",
    "\n",
    "domain = linspace(-1, +1)\n",
    "θ = linspace(0,2π)\n",
    "plot([linspace(-1,+1) for i in 1:4], [(b[i]-A[i][1]*domain)/A[i][2] for i in 1:4], color=:blue, xlim=(-1,+1),ylim=(-1,+1), legend=false)\n",
    "plot!(getvalue(x[1]) + getvalue(r)*cos.(θ), getvalue(x[1]) + getvalue(r)*sin.(θ), color=:red, fill=true)"
   ]
  }
 ],
 "metadata": {
  "anaconda-cloud": {},
  "kernelspec": {
   "display_name": "Julia 0.6.2",
   "language": "julia",
   "name": "julia-0.6"
  },
  "language_info": {
   "file_extension": ".jl",
   "mimetype": "application/julia",
   "name": "julia",
   "version": "0.6.2"
  }
 },
 "nbformat": 4,
 "nbformat_minor": 2
}
