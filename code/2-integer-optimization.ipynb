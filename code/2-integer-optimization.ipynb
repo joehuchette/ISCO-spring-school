{
 "cells": [
  {
   "cell_type": "markdown",
   "metadata": {},
   "source": [
    "# Mixed-integer programming\n",
    "\n",
    "Suppose Joey wants to carry items to the pawn shop to get some extra cash. He has $N$ items, each with a weight $w_i$ and a price $p_i$. Iain hasn't been to the gym lately, so he can only carry $C$ kilos. How does he choose what to bring with him?\n",
    "\n",
    "We can model this as an integer optimization problem:\n",
    "\n",
    "\\begin{align*}\n",
    "\\max& \\sum_{i=1}^N p_i x_i \\\\\n",
    "\\text{s.t.}& \\sum_{i=1}^N w_i x_i \\leq C \\\\\n",
    "& x_i \\in \\{0,1\\} \\quad \\forall i = 1,\\ldots,N\n",
    "\\end{align*}\n"
   ]
  },
  {
   "cell_type": "markdown",
   "metadata": {},
   "source": [
    "# The knapsack problem\n",
    "\n",
    "Consider the following (small) knapsack problem:\n",
    "\n",
    "\\begin{align*}\n",
    "    \\max\\:& x + y \\\\\n",
    "    \\text{s.t.}\\:& x + 2y \\leq 1.5 \\\\\n",
    "    & x, y \\in \\{0,1\\}\n",
    "\\end{align*}\n",
    "\n",
    "How would you solve this? "
   ]
  },
  {
   "cell_type": "markdown",
   "metadata": {},
   "source": [
    "## Implementation in JuMP\n",
    "\n",
    "Let's solve our simple knapsack problem and see what the solver spits out."
   ]
  },
  {
   "cell_type": "code",
   "execution_count": null,
   "metadata": {
    "collapsed": false
   },
   "outputs": [],
   "source": [
    "using JuMP, Cbc\n",
    "m = Model(solver=CbcSolver(logLevel=1))\n",
    "\n",
    "@variable(m, x, Bin)\n",
    "@variable(m, y, Bin)\n",
    "\n",
    "@constraint(m, x + 2y ≤ 1.5)\n",
    "@objective(m, Max, x + y)\n",
    "\n",
    "solve(m)"
   ]
  },
  {
   "cell_type": "markdown",
   "metadata": {
    "collapsed": true
   },
   "source": [
    "This is kind of dull since Cbc solves this before we ever get to the branch-and-bound tree! Let's cook up a problem that's a little more interesting. What about more items, and more knapsacks! If $N=100$, naïve enumeration would create $2^{100}$ nodes, which would take quite some time. How does the solver actually tackle it?"
   ]
  },
  {
   "cell_type": "code",
   "execution_count": null,
   "metadata": {
    "collapsed": false
   },
   "outputs": [],
   "source": [
    "srand(100)\n",
    "N = 100\n",
    "\n",
    "m = Model(solver=CbcSolver(logLevel=1))\n",
    "@variable(m, x[1:N], Bin)\n",
    "for _ in 1:10\n",
    "    @constraint(m, dot(rand(N), x) ≤ N / 50)\n",
    "end\n",
    "\n",
    "@objective(m, Max, dot(rand(N), x))\n",
    "\n",
    "solve(m)"
   ]
  },
  {
   "cell_type": "markdown",
   "metadata": {},
   "source": [
    "## Sudoku\n",
    "\n",
    "![Sudoku](http://upload.wikimedia.org/wikipedia/commons/f/ff/Sudoku-by-L2G-20050714.svg)\n",
    "\n",
    "**Sudoku** is a number puzzle played on a 9x9 grid. The challenge is to place a digit between 1 and 9 inclusive in each empty cell, such that the completed grid obeys the following rules:\n",
    "\n",
    "* Each row contains the numbers 1 to 9 once and only once.\n",
    "* Each column contains the numbers 1 to 9 once and only once.\n",
    "* Each 3x3 subgrid contains the numbers 1 to 9 once and only once."
   ]
  },
  {
   "cell_type": "code",
   "execution_count": null,
   "metadata": {
    "collapsed": false
   },
   "outputs": [],
   "source": [
    "init_vals = [\n",
    "5 3 0 0 7 0 0 0 0\n",
    "6 0 0 1 9 5 0 0 0\n",
    "0 9 8 0 0 0 0 6 0\n",
    "8 0 0 0 6 0 0 0 3\n",
    "4 0 0 8 0 3 0 0 1\n",
    "7 0 0 0 2 0 0 0 6\n",
    "0 6 0 0 0 0 2 8 0\n",
    "0 0 0 4 1 9 0 0 5\n",
    "0 0 0 0 8 0 0 7 9\n",
    "]"
   ]
  },
  {
   "cell_type": "markdown",
   "metadata": {},
   "source": [
    "The most natural formulation of this problem would probably be something like\n",
    "\n",
    "$$x_{i,j} \\in \\{1, 2, \\dots, 9\\}$$\n",
    "\n",
    "which is of course something we can do with integer programming:\n",
    "\n",
    "$$1 \\leq x_{i,j} \\leq 9, \\quad x_{i,j} \\in \\mathbb{Z}$$\n",
    "\n",
    "The challenge now is the constraints. One observation is that the numbers 1 to 9 add up to 45, so we could try something like:\n",
    "\n",
    "$$ \\sum_{i=1}^9 x_{i,j} = 45 \\quad \\forall j$$\n",
    "$$ \\sum_{j=1}^9 x_{i,j} = 45 \\quad \\forall i$$\n",
    "$$ \\sum_{i=k}^{k+2} \\sum_{j=\\ell}^{\\ell+2} x_{i,j} = 45 \\quad \\forall k,\\ell \\in \\{1,3,7\\} $$"
   ]
  },
  {
   "cell_type": "code",
   "execution_count": null,
   "metadata": {
    "collapsed": false
   },
   "outputs": [],
   "source": [
    "sudoku = Model(solver=CbcSolver(logLevel=0))\n",
    "@variable(sudoku, 1 ≤ x[1:9,1:9] ≤ 9, Int)\n",
    "    \n",
    "@constraints(sudoku, begin\n",
    "    rows[i=1:9], sum(x[i,:]) == 45\n",
    "    cols[j=1:9], sum(x[:,j]) == 45\n",
    "    subgrid[i=1:3:7,j=1:3:7], sum(x[i:i+2,j:j+2]) == 45\n",
    "end)\n",
    "    \n",
    "for i in 1:9, j in 1:9\n",
    "    if init_vals[i,j] != 0\n",
    "        @constraint(sudoku, x[i,j] == init_vals[i,j])\n",
    "    end\n",
    "end\n",
    "    \n",
    "solve(sudoku)\n",
    "    \n",
    "getvalue(x)"
   ]
  },
  {
   "cell_type": "markdown",
   "metadata": {},
   "source": [
    "Well that didn't work. Could we make this work at all?\n",
    "\n",
    "Instead, let's change our **variables**: $x_{i,j,k} = 1$ iff the number $k$ will appear in cell $(i,j)$. We can now use our 0-1 integer programming knowledge to model the problem. Consider the \"row\" constraints: we want each number to appear once and only once. This is equivalent to saying that\n",
    "\n",
    "$$\\sum_{j=1}^9 x_{i,j,k} = 1 \\quad \\forall i, k$$\n",
    "\n",
    "We can now model this as a $9\\times 9\\times 9$ dimensional problem - thats a lot of binary variables, surely Gurobi won't like that!"
   ]
  },
  {
   "cell_type": "code",
   "execution_count": null,
   "metadata": {
    "collapsed": false,
    "scrolled": true
   },
   "outputs": [],
   "source": [
    "sudoku = Model(solver=CbcSolver(logLevel=1))\n",
    "\n",
    "@variable(sudoku, x[i=1:9, j=1:9, k=1:9], Bin)\n",
    "\n",
    "@constraints(sudoku, begin\n",
    "    # Constraint 1 - Exactly one value appears in each cell.\n",
    "    cell[i=1:9, j=1:9], sum(x[i,j,:]) == 1\n",
    "    # Constraint 2 - Each value appears in each row exactly once.\n",
    "    row[i=1:9, k=1:9], sum(x[i,:,k]) == 1\n",
    "    # Constraint 3 - Each value appears in each column exactly once.\n",
    "    col[j=1:9, k=1:9], sum(x[:,j,k]) == 1\n",
    "    # Constraint 4 - Each value appears in each 3x3 subgrid exactly once.\n",
    "    subgrid[i=1:3:7,j=1:3:7,val=1:9], sum(x[i:i+2,j:j+2,val]) == 1\n",
    "end)\n",
    "\n",
    "# Fix given values. \n",
    "for row in 1:9, col in 1:9\n",
    "    if init_vals[row,col] != 0\n",
    "        @constraint(sudoku, x[row, col, init_vals[row, col]] == 1)\n",
    "    end\n",
    "end\n",
    "    \n",
    "solve(sudoku)\n",
    "    \n",
    "soln = getvalue(x)"
   ]
  },
  {
   "cell_type": "code",
   "execution_count": null,
   "metadata": {
    "collapsed": false
   },
   "outputs": [],
   "source": [
    "# soln2 is a 9x9x9 array with values 0 or 1. \n",
    "# First we need to transform it to a 9x9 matrix with the right values 1,...,9.\n",
    "soln_array = sum(i * soln[:,:,i] for i in 1:9)"
   ]
  },
  {
   "cell_type": "markdown",
   "metadata": {},
   "source": [
    "## Presolving the Problem\n",
    "Can you see the lines\n",
    "```\n",
    "Cgl0004I processed model has 0 rows, 0 columns (0 integer (0 of which binary)) and 0 elements\n",
    "Cbc3007W No integer variables - nothing to do\n",
    "```\n",
    "? Cbc was able to use logic to deduce the value of every variable - no linear relaxation required! This \"magic\" is actually how a human might solve it. Consider the following:\n",
    "\n",
    "We know that $x_{2,6,5}$ is fixed at 1 because it is one of the provided values. So we can actually replace $x_{2,6,5}$ wherever it appears in the constraints with the constant 1:\n",
    "\n",
    "\"The value 5 must appear in row 2\":\n",
    "$$x_{2,1,5} + x_{2,2,5} + x_{2,3,5} + x_{2,4,5} + x_{2,5,5} + x_{2,6,5} + x_{2,7,5} + x_{2,8,5} + x_{2,9,5} = 1$$\n",
    "$$\\rightarrow x_{2,1,5} + x_{2,2,5} + x_{2,3,5} + x_{2,4,5} + x_{2,5,5} + 1 + x_{2,7,5} + x_{2,8,5} + x_{2,9,5} = 1$$\n",
    "$$\\rightarrow x_{2,1,5} + x_{2,2,5} + x_{2,3,5} + x_{2,4,5} + x_{2,5,5} + x_{2,7,5} + x_{2,8,5} + x_{2,9,5} = 0$$\n",
    "\n",
    "\"The value 5 must appear in column 6\":\n",
    "$$x_{1,6,5} + x_{2,6,5} + x_{3,6,5} + x_{4,6,5} + x_{5,6,5} + x_{6,6,5} + x_{7,6,5} + x_{8,6,5} + x_{9,6,5} = 1$$\n",
    "$$x_{1,6,5} + 1 + x_{3,6,5} + x_{4,6,5} + x_{5,6,5} + x_{6,6,5} + x_{7,6,5} + x_{8,6,5} + x_{9,6,5} = 1$$\n",
    "$$x_{1,6,5} + x_{3,6,5} + x_{4,6,5} + x_{5,6,5} + x_{6,6,5} + x_{7,6,5} + x_{8,6,5} + x_{9,6,5} = 0$$\n",
    "\n",
    "and so on. Because all those other variables can only be 0 or 1, and their sum is 0, they must all be 0. Thus Cbc presolve can perform the following procedure:\n",
    "1. Replace all the fixed values with constants\n",
    "2. Use constraints to fix variables, e.g. at 0 (or 1)\n",
    "3. Go to 1 unless step 2 did nothing.\n",
    "\n",
    "A small problem arises when there are multiple solutions to the problem - a random selection has to be made. Cbc will treat this case as \"trying to find a feasible solution\" - it will fix a variable, and follow the implications through.\n",
    "\n",
    "Cbc can do similar presolving implications for continuous decisions too, e.g.\n",
    "$$x \\in \\{ 0, 1 \\}$$\n",
    "$$x \\leq \\frac{1}{2}$$\n",
    "\n",
    "will presolve to $x = 0$: Cbc knows that all the variables are integer, so we can safe round down the right-hand-side to the closest integer."
   ]
  },
  {
   "cell_type": "markdown",
   "metadata": {},
   "source": [
    "## Big $M$s and logical implications\n",
    "\n",
    "We often need to model the following type of constraint:\n",
    "\n",
    "> The constraint $a^Tx \\leq b$ holds if $z=1$\n",
    "\n",
    "An example of this appears in network problems:\n",
    "\n",
    "> We have a network with a 'source' and a 'sink', and want to maximize flow between them across the network. We have a set of arcs we can build, at a cost, so our objective is to maximize profit from the flow less the cost of building these arcs.\n",
    "\n",
    "If we say that $x_{i,j}$ is the flow from $i$ to $j$, and $z_{i,j}$ is a binary decision for whether we build the arc or not, we will have the constraint\n",
    "\n",
    "$$ x_{i,j} > 0 \\Longrightarrow z_{i,j}=1 $$\n",
    "\n",
    "One way to express this using linear inequalities is to write\n",
    "\n",
    "$$ 0 \\leq x_{i,j} \\leq M z_{i,j} $$\n",
    "\n",
    "where $M$ is a **sufficiently large constant**. That means that $M$ is greater than the largest value $x_{i,j}$ would take in an optimal solution.\n",
    "\n",
    "In some problems, picking a value for $M$ is easy - for example, if arcs have a maximum capacity $C$, set $M \\leftarrow C$. In other cases, it is not clear *a priori* what the largest value $x_{i,j}$ can take is. It may be tempting to just choose a large value, like $M\\leftarrow 10^{10}$, just to be safe. However this can make your MILP much harder to solve, as we will now demonstrate."
   ]
  },
  {
   "cell_type": "markdown",
   "metadata": {},
   "source": [
    "### Bad Big-Ms\n",
    "\n",
    "Consider the following toy problem:\n",
    "\n",
    "$$\n",
    "\\begin{align*}\n",
    "\\max\\quad& x_1 + x_2 + x_3 \\\\\n",
    "\\text{s.t.}\\quad& Ax \\leq b \\\\\n",
    "& 0 \\leq x_i \\leq M_i z_i \\\\\n",
    "& \\sum_{i=1}^3 z_i \\leq 1 \\\\\n",
    "& (x,z) \\in \\mathbb{R}^3 \\times \\{0,1\\}^3\n",
    "\\end{align*}\n",
    "$$\n",
    "\n",
    "or, in words, pick the single largest $x_i$, subject to the linear constraints $Ax\\leq b$. These linear constraints will imply some bounds on $x_i$, although it may be hard to find them. If we did know them, we could set $M_i$ to those bounds. Since we don't, we'll need to pick a \"sufficiently large\" $M$ from our understanding of the problem. Lets see what the solution of the linear relaxation of this problem looks like as we vary $M$."
   ]
  },
  {
   "cell_type": "code",
   "execution_count": null,
   "metadata": {
    "collapsed": false
   },
   "outputs": [],
   "source": [
    "function example1(M)\n",
    "    mod = Model(solver=CbcSolver(logLevel=0))\n",
    "    @variable(mod, x[1:3] ≥ 0)\n",
    "    @variable(mod, z[1:3], Bin)\n",
    "    @objective(mod, Max, sum(x))\n",
    "    \n",
    "    # We will make our Ax≤b a very simple set!\n",
    "    @constraint(mod, x[1] ≤ 4)\n",
    "    @constraint(mod, x[2] ≤ 8)\n",
    "    @constraint(mod, x[3] ≤ 9)\n",
    "\n",
    "    @constraint(mod, bigm[i=1:3], x[i] ≤ M*z[i])\n",
    "    @constraint(mod, sum(z) ≤ 1)\n",
    "    \n",
    "    solve(mod, relaxation=true)\n",
    "    relax = getobjectivevalue(mod)\n",
    "    \n",
    "    solve(mod)\n",
    "    opt = getobjectivevalue(mod)\n",
    "    \n",
    "    # MILP objective is 9, compare with LP objective\n",
    "    gap = (relax-opt) / opt\n",
    "\n",
    "    return 100gap, getvalue(x)[:], getvalue(z)[:]\n",
    "end\n",
    "\n",
    "using Plots\n",
    "\n",
    "Mrange = 0:3:30\n",
    "plot(Mrange, [example1(M)[1] for M in Mrange], xlabel=\"M\", ylabel=\"Relaxation gap (%)\", legend=false)\n",
    "vline!([9])"
   ]
  }
 ],
 "metadata": {
  "anaconda-cloud": {},
  "kernelspec": {
   "display_name": "Julia 0.6.2",
   "language": "julia",
   "name": "julia-0.6"
  },
  "language_info": {
   "file_extension": ".jl",
   "mimetype": "application/julia",
   "name": "julia",
   "version": "0.6.2"
  }
 },
 "nbformat": 4,
 "nbformat_minor": 1
}
